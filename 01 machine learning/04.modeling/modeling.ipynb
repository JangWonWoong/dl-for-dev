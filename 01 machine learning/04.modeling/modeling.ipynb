{
 "cells": [
  {
   "cell_type": "markdown",
   "metadata": {},
   "source": [
    "## 모델 만들기"
   ]
  },
  {
   "cell_type": "markdown",
   "metadata": {},
   "source": [
    "사이킷런 패키지 사용 간단한 logistic regression 모델 작성.\n",
    "\n",
    "모델 작성 후 평가 기준을 통한 평가 수행"
   ]
  },
  {
   "cell_type": "code",
   "execution_count": 1,
   "metadata": {},
   "outputs": [],
   "source": [
    "import pandas as pd\n",
    "feats = pd.read_csv('../data/OSI_feats_e3.csv')\n",
    "target = pd.read_csv('../data/OSI_target_e2.csv')"
   ]
  },
  {
   "cell_type": "code",
   "execution_count": 2,
   "metadata": {},
   "outputs": [],
   "source": [
    "from sklearn.model_selection import train_test_split\n",
    "test_size = 0.2\n",
    "random_state = 42\n",
    "X_train, X_test, y_train, y_test = train_test_split(feats, target, test_size=test_size, random_state=random_state)"
   ]
  },
  {
   "cell_type": "code",
   "execution_count": 3,
   "metadata": {},
   "outputs": [
    {
     "name": "stdout",
     "output_type": "stream",
     "text": [
      "Shape of X_train: (9864, 68)\n",
      "Shape of y_train: (9864, 1)\n",
      "Shape of X_test: (2466, 68)\n",
      "Shape of y_test: (2466, 1)\n"
     ]
    }
   ],
   "source": [
    "print(f'Shape of X_train: {X_train.shape}')\n",
    "print(f'Shape of y_train: {y_train.shape}')\n",
    "print(f'Shape of X_test: {X_test.shape}')\n",
    "print(f'Shape of y_test: {y_test.shape}')"
   ]
  },
  {
   "cell_type": "code",
   "execution_count": 4,
   "metadata": {},
   "outputs": [
    {
     "data": {
      "text/plain": [
       "LogisticRegression(C=1.0, class_weight=None, dual=False, fit_intercept=True,\n",
       "                   intercept_scaling=1, l1_ratio=None, max_iter=10000,\n",
       "                   multi_class='auto', n_jobs=None, penalty='l2',\n",
       "                   random_state=42, solver='lbfgs', tol=0.0001, verbose=0,\n",
       "                   warm_start=False)"
      ]
     },
     "execution_count": 4,
     "metadata": {},
     "output_type": "execute_result"
    }
   ],
   "source": [
    "from sklearn.linear_model import LogisticRegression\n",
    "model = LogisticRegression(random_state=42, max_iter=10000)\n",
    "model.fit(X_train, y_train['Revenue'])"
   ]
  },
  {
   "cell_type": "code",
   "execution_count": 5,
   "metadata": {},
   "outputs": [],
   "source": [
    "y_pred = model.predict(X_test)"
   ]
  },
  {
   "cell_type": "code",
   "execution_count": 6,
   "metadata": {},
   "outputs": [
    {
     "name": "stdout",
     "output_type": "stream",
     "text": [
      "Accuracy of the model is 87.0641%\n"
     ]
    }
   ],
   "source": [
    "from sklearn import metrics\n",
    "accuracy = metrics.accuracy_score(y_pred=y_pred, y_true=y_test)\n",
    "print(f'Accuracy of the model is {accuracy*100:.4f}%')"
   ]
  },
  {
   "cell_type": "markdown",
   "metadata": {},
   "source": [
    "### 다른 평가 기준\n",
    "\n",
    "precision\n",
    "\n",
    "recall\n",
    "\n",
    "f1-score"
   ]
  },
  {
   "cell_type": "code",
   "execution_count": 7,
   "metadata": {},
   "outputs": [
    {
     "name": "stdout",
     "output_type": "stream",
     "text": [
      "Precision: 0.7323\n",
      "Recall: 0.3528\n",
      "fscore: 0.4762\n"
     ]
    }
   ],
   "source": [
    "precision, recall, fscore, _ = metrics.precision_recall_fscore_support(y_pred=y_pred, y_true=y_test, average='binary')\n",
    "print(f'Precision: {precision:.4f}\\nRecall: {recall:.4f}\\nfscore: {fscore:.4f}')"
   ]
  },
  {
   "cell_type": "markdown",
   "metadata": {},
   "source": [
    "accuracy 는 높지만 recall 은 상대적으로 많이 낮다. 즉, true positive의 값이 많이 다를 것임."
   ]
  },
  {
   "cell_type": "markdown",
   "metadata": {},
   "source": [
    "### Feature 중요도 확인\n",
    "   \n",
    "\n",
    "계수(coefficients)를 살펴봄으로써 피처의 중요도를 확인 가능. 숫자가 높을수록 결과에 영향을 많이 끼침."
   ]
  },
  {
   "cell_type": "code",
   "execution_count": 8,
   "metadata": {},
   "outputs": [
    {
     "name": "stdout",
     "output_type": "stream",
     "text": [
      "TrafficType_13: -0.7917570288138118\n",
      "VisitorType_Returning_Visitor: -0.7077067020108712\n",
      "Month_Dec: -0.6632994871900317\n",
      "OperatingSystems_3: -0.5594109873909672\n",
      "TrafficType_3: -0.5426993596121811\n",
      "Month_Mar: -0.5419129709525607\n",
      "Region_9: -0.5100949128094056\n",
      "ExitRates: -0.4780451929780065\n",
      "Month_May: -0.4053209053980702\n",
      "SpecialDay: -0.40045822770896283\n",
      "BounceRates: -0.3525018284225123\n",
      "Month_June: -0.34779526836568864\n",
      "OperatingSystems_8: -0.28780037202647457\n",
      "VisitorType_New_Visitor: -0.2800880364852062\n",
      "Browser_6: -0.26835493662055737\n",
      "TrafficType_1: -0.2338219575750508\n",
      "Region_4: -0.2337791476492104\n",
      "Browser_1: -0.22725918368211923\n",
      "TrafficType_6: -0.21637111631465478\n",
      "Browser_4: -0.21576994005846414\n",
      "Region_7: -0.21201474985854196\n",
      "Browser_3: -0.19287685638823338\n",
      "Browser_13: -0.18168441394446655\n",
      "OperatingSystems_2: -0.17132086375465683\n",
      "OperatingSystems_4: -0.16792807742115978\n",
      "Browser_2: -0.14192214937877964\n",
      "OperatingSystems_1: -0.12906124698554883\n",
      "Region_3: -0.10619817301840695\n",
      "TrafficType_15: -0.09383207430004664\n",
      "Browser_5: -0.08558746682525137\n",
      "TrafficType_9: -0.0715870548912899\n",
      "TrafficType_4: -0.06842250926834118\n",
      "Region_1: -0.06145284866789981\n",
      "Browser_8: -0.05811079032061134\n",
      "TrafficType_20: -0.04221442743222448\n",
      "TrafficType_19: -0.035205903882759806\n",
      "Browser_10: -0.03460368717855336\n",
      "TrafficType_2: -0.018781943191501217\n",
      "TrafficType_14: -0.017586666777426093\n",
      "TrafficType_18: -0.01641360097599841\n",
      "OperatingSystems_6: -0.012813105012948875\n",
      "TrafficType_7: -0.0033187828185763614\n",
      "TrafficType_12: -0.0025149786489789836\n",
      "Browser_11: -0.002191206407494246\n",
      "Informational_Duration: -0.00019724184573095694\n",
      "Administrative_Duration: -4.820788919481023e-05\n",
      "ProductRelated_Duration: 4.3411404845782164e-05\n",
      "ProductRelated: 0.0035976271621641397\n",
      "Region_8: 0.005209907123491514\n",
      "Administrative: 0.008442963935902558\n",
      "Browser_7: 0.019181520497789897\n",
      "OperatingSystems_7: 0.024251094473465344\n",
      "TrafficType_16: 0.03482291747063978\n",
      "Region_6: 0.0612844327520057\n",
      "Informational: 0.0628345904499661\n",
      "TrafficType_5: 0.06583438197826655\n",
      "Month_Aug: 0.0713472958706872\n",
      "Browser_12: 0.08524973798627976\n",
      "PageValues: 0.08660318060847311\n",
      "Month_Sep: 0.09378969229641101\n",
      "Region_2: 0.11560485690762227\n",
      "TrafficType_11: 0.15009174955269913\n",
      "Month_Jul: 0.1663266488519429\n",
      "is_weekend: 0.18577474241571384\n",
      "Month_Oct: 0.23912108248396613\n",
      "TrafficType_10: 0.29025128651908205\n",
      "TrafficType_8: 0.30909784495742054\n",
      "Month_Nov: 0.4506799326287587\n"
     ]
    }
   ],
   "source": [
    "coef_list = [f'{feature}: {coef}' for coef, feature in sorted(zip(model.coef_[0], X_train.columns.values.tolist()))]\n",
    "for item in coef_list:\n",
    "    print(item)"
   ]
  }
 ],
 "metadata": {
  "kernelspec": {
   "display_name": "Python 3",
   "language": "python",
   "name": "python3"
  },
  "language_info": {
   "codemirror_mode": {
    "name": "ipython",
    "version": 3
   },
   "file_extension": ".py",
   "mimetype": "text/x-python",
   "name": "python",
   "nbconvert_exporter": "python",
   "pygments_lexer": "ipython3",
   "version": "3.7.6"
  }
 },
 "nbformat": 4,
 "nbformat_minor": 4
}
